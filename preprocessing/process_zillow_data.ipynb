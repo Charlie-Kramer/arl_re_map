{
 "cells": [
  {
   "cell_type": "code",
   "execution_count": 1,
   "metadata": {},
   "outputs": [],
   "source": [
    "#calculate price changes\n",
    "import pandas as pd\n",
    "import numpy as np\n",
    "\n",
    "df = pd.read_csv(\"../data/Zip_zhvi_uc_sfrcondo_tier_0.33_0.67_sm_sa_month.csv\")"
   ]
  },
  {
   "cell_type": "code",
   "execution_count": 2,
   "metadata": {},
   "outputs": [],
   "source": [
    "df_va = df.loc[df[\"State\"]==\"VA\"].copy()\n",
    "\n",
    "cols = df_va.columns\n",
    "\n",
    "latest = df_va.loc[:,cols[len(cols)-1]]\n",
    "lag_1y = df_va.loc[:,cols[len(cols)-1-12]]\n",
    "lag_5y = df_va.loc[:,cols[len(cols)-1-12*5]]\n",
    "lag_10y = df_va.loc[:,cols[len(cols)-1-12*10]]\n",
    "\n",
    "def percentage_change(col1,col2):\n",
    "    return ((col1.sub(col2)).div(col2)).mul(100).round(2).replace((np.inf,-np.inf,np.nan), None)\n",
    "\n",
    "df_va[\"One_Year\"] = percentage_change(latest,lag_1y)\n",
    "df_va[\"Five_Years\"] = percentage_change(latest,lag_5y)\n",
    "df_va[\"Ten_Years\"] = percentage_change(latest,lag_10y)\n"
   ]
  },
  {
   "cell_type": "code",
   "execution_count": 3,
   "metadata": {},
   "outputs": [],
   "source": [
    "#write to csv\n",
    "file_name = \"../data/zillow_pricedata_byzip_va_only.csv\"\n",
    "df_va.to_csv(file_name, encoding='utf-8', index=False)"
   ]
  },
  {
   "cell_type": "code",
   "execution_count": null,
   "metadata": {},
   "outputs": [],
   "source": []
  },
  {
   "cell_type": "code",
   "execution_count": 4,
   "metadata": {},
   "outputs": [],
   "source": [
    "#write just percentage changes to csv\n",
    "file_name = \"../data/zillow_pricedata_byzip_va_only_subset.csv\"\n",
    "df_va_subset = df_va.loc[:,[\"RegionName\",\"One_Year\",\"Five_Years\",\"Ten_Years\"]]\n",
    "df_va_subset.to_csv(file_name, encoding='utf-8', index=False)"
   ]
  },
  {
   "cell_type": "code",
   "execution_count": 5,
   "metadata": {},
   "outputs": [],
   "source": [
    "#filter by arlington only\n",
    "#read arlington zipcodes\n",
    "filename = '../data/arlington_zips.txt'\n",
    "\n",
    "with open(filename, 'r') as a:\n",
    "    z = a.readlines()[0:-1]\n",
    "\n",
    "zips = [int(line.strip()) for line in z]\n",
    "\n",
    "df_arl_subset = df_va_subset[df_va_subset[\"RegionName\"].isin(zips)]\n",
    "df_arl_subset\n",
    "\n",
    "file_name = \"../data/zillow_pricedata_byzip_arl_only_subset.csv\"\n",
    "\n",
    "df_arl_subset.to_csv(file_name, encoding='utf-8', index=False)"
   ]
  },
  {
   "cell_type": "code",
   "execution_count": 6,
   "metadata": {},
   "outputs": [
    {
     "data": {
      "text/html": [
       "<div>\n",
       "<style scoped>\n",
       "    .dataframe tbody tr th:only-of-type {\n",
       "        vertical-align: middle;\n",
       "    }\n",
       "\n",
       "    .dataframe tbody tr th {\n",
       "        vertical-align: top;\n",
       "    }\n",
       "\n",
       "    .dataframe thead th {\n",
       "        text-align: right;\n",
       "    }\n",
       "</style>\n",
       "<table border=\"1\" class=\"dataframe\">\n",
       "  <thead>\n",
       "    <tr style=\"text-align: right;\">\n",
       "      <th></th>\n",
       "      <th>RegionName</th>\n",
       "      <th>One_Year</th>\n",
       "      <th>Five_Years</th>\n",
       "      <th>Ten_Years</th>\n",
       "    </tr>\n",
       "  </thead>\n",
       "  <tbody>\n",
       "    <tr>\n",
       "      <th>698</th>\n",
       "      <td>22204</td>\n",
       "      <td>3.59</td>\n",
       "      <td>25.14</td>\n",
       "      <td>44.76</td>\n",
       "    </tr>\n",
       "    <tr>\n",
       "      <th>1910</th>\n",
       "      <td>22201</td>\n",
       "      <td>2.68</td>\n",
       "      <td>15.66</td>\n",
       "      <td>29.16</td>\n",
       "    </tr>\n",
       "    <tr>\n",
       "      <th>2923</th>\n",
       "      <td>22207</td>\n",
       "      <td>9.97</td>\n",
       "      <td>29.69</td>\n",
       "      <td>44.99</td>\n",
       "    </tr>\n",
       "    <tr>\n",
       "      <th>4555</th>\n",
       "      <td>22202</td>\n",
       "      <td>3.96</td>\n",
       "      <td>25.3</td>\n",
       "      <td>38.15</td>\n",
       "    </tr>\n",
       "    <tr>\n",
       "      <th>4633</th>\n",
       "      <td>22203</td>\n",
       "      <td>2.16</td>\n",
       "      <td>19.73</td>\n",
       "      <td>34.94</td>\n",
       "    </tr>\n",
       "    <tr>\n",
       "      <th>5535</th>\n",
       "      <td>22206</td>\n",
       "      <td>2.53</td>\n",
       "      <td>26.08</td>\n",
       "      <td>38.76</td>\n",
       "    </tr>\n",
       "    <tr>\n",
       "      <th>6231</th>\n",
       "      <td>22205</td>\n",
       "      <td>7.89</td>\n",
       "      <td>26.34</td>\n",
       "      <td>42.86</td>\n",
       "    </tr>\n",
       "    <tr>\n",
       "      <th>8483</th>\n",
       "      <td>22209</td>\n",
       "      <td>2.08</td>\n",
       "      <td>11.68</td>\n",
       "      <td>21.79</td>\n",
       "    </tr>\n",
       "    <tr>\n",
       "      <th>15158</th>\n",
       "      <td>22213</td>\n",
       "      <td>8.14</td>\n",
       "      <td>28.0</td>\n",
       "      <td>55.86</td>\n",
       "    </tr>\n",
       "  </tbody>\n",
       "</table>\n",
       "</div>"
      ],
      "text/plain": [
       "       RegionName One_Year Five_Years Ten_Years\n",
       "698         22204     3.59      25.14     44.76\n",
       "1910        22201     2.68      15.66     29.16\n",
       "2923        22207     9.97      29.69     44.99\n",
       "4555        22202     3.96       25.3     38.15\n",
       "4633        22203     2.16      19.73     34.94\n",
       "5535        22206     2.53      26.08     38.76\n",
       "6231        22205     7.89      26.34     42.86\n",
       "8483        22209     2.08      11.68     21.79\n",
       "15158       22213     8.14       28.0     55.86"
      ]
     },
     "execution_count": 6,
     "metadata": {},
     "output_type": "execute_result"
    }
   ],
   "source": [
    "df_arl_subset"
   ]
  },
  {
   "cell_type": "code",
   "execution_count": 7,
   "metadata": {},
   "outputs": [
    {
     "data": {
      "text/plain": [
       "93       22193\n",
       "119      23464\n",
       "245      22191\n",
       "275      23322\n",
       "298      23462\n",
       "         ...  \n",
       "27026    24474\n",
       "27154    22722\n",
       "27262    24448\n",
       "27420    22731\n",
       "27430    23066\n",
       "Name: RegionName, Length: 775, dtype: int64"
      ]
     },
     "execution_count": 7,
     "metadata": {},
     "output_type": "execute_result"
    }
   ],
   "source": [
    "df_va_subset[\"RegionName\"]"
   ]
  },
  {
   "cell_type": "code",
   "execution_count": 16,
   "metadata": {},
   "outputs": [
    {
     "data": {
      "text/html": [
       "<div>\n",
       "<style scoped>\n",
       "    .dataframe tbody tr th:only-of-type {\n",
       "        vertical-align: middle;\n",
       "    }\n",
       "\n",
       "    .dataframe tbody tr th {\n",
       "        vertical-align: top;\n",
       "    }\n",
       "\n",
       "    .dataframe thead th {\n",
       "        text-align: right;\n",
       "    }\n",
       "</style>\n",
       "<table border=\"1\" class=\"dataframe\">\n",
       "  <thead>\n",
       "    <tr style=\"text-align: right;\">\n",
       "      <th></th>\n",
       "      <th>RegionName</th>\n",
       "      <th>One_Year</th>\n",
       "      <th>Five_Years</th>\n",
       "      <th>Ten_Years</th>\n",
       "    </tr>\n",
       "  </thead>\n",
       "  <tbody>\n",
       "  </tbody>\n",
       "</table>\n",
       "</div>"
      ],
      "text/plain": [
       "Empty DataFrame\n",
       "Columns: [RegionName, One_Year, Five_Years, Ten_Years]\n",
       "Index: []"
      ]
     },
     "execution_count": 16,
     "metadata": {},
     "output_type": "execute_result"
    }
   ],
   "source": [
    "df_va_subset[df_va_subset[\"RegionName\"]==22211]"
   ]
  },
  {
   "cell_type": "code",
   "execution_count": null,
   "metadata": {},
   "outputs": [],
   "source": []
  }
 ],
 "metadata": {
  "kernelspec": {
   "display_name": "Python 3 (ipykernel)",
   "language": "python",
   "name": "python3"
  },
  "language_info": {
   "codemirror_mode": {
    "name": "ipython",
    "version": 3
   },
   "file_extension": ".py",
   "mimetype": "text/x-python",
   "name": "python",
   "nbconvert_exporter": "python",
   "pygments_lexer": "ipython3",
   "version": "3.9.13"
  }
 },
 "nbformat": 4,
 "nbformat_minor": 4
}
